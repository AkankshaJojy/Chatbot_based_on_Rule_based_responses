{
  "nbformat": 4,
  "nbformat_minor": 0,
  "metadata": {
    "colab": {
      "provenance": []
    },
    "kernelspec": {
      "name": "python3",
      "display_name": "Python 3"
    },
    "language_info": {
      "name": "python"
    }
  },
  "cells": [
    {
      "cell_type": "code",
      "execution_count": null,
      "metadata": {
        "colab": {
          "base_uri": "https://localhost:8080/"
        },
        "id": "zTYhif4R4oFv",
        "outputId": "130c776a-3b41-4ff6-9abd-229349169de1"
      },
      "outputs": [
        {
          "output_type": "stream",
          "name": "stdout",
          "text": [
            "Hello! I am Kiara(your personal chatbot). How can I help you today?\n",
            "You: HELLO\n",
            "Chatbot: Hello! How can I assist you?\n",
            "You: whats your name?\n",
            "Chatbot: I am a simple chatbot created to help you.\n",
            "You: okay bye\n",
            "Chatbot: Goodbye! Have a great day!\n"
          ]
        }
      ],
      "source": [
        "import re\n",
        "\n",
        "def chatbot():\n",
        "    print(\"Hello! I am Kiara(your personal chatbot). How can I help you today?\")\n",
        "\n",
        "    while True:\n",
        "        user_input = input(\"You: \").lower()\n",
        "\n",
        "        if user_input in [\"hi\", \"hello\", \"hey\"]:\n",
        "            print(\"Chatbot: Hello! How can I assist you?\")\n",
        "        elif \"how are you\" in user_input:\n",
        "            print(\"Chatbot: I'm just a program, but I'm doing great! How about you?\")\n",
        "        elif re.search(r\"\\bname\\b\", user_input):\n",
        "            print(\"Chatbot: I am a simple chatbot created to help you.\")\n",
        "        elif re.search(r\"\\bweather\\b\", user_input):\n",
        "            print(\"Chatbot: I can't check the weather right now, but I hope it's nice where you are!\")\n",
        "        elif re.search(r\"\\btime\\b\", user_input):\n",
        "            print(\"Chatbot: I can't check the time right now, but I hope you're having a great day!\")\n",
        "        elif re.search(r\"\\bhelp\\b\", user_input):\n",
        "            print(\"Chatbot: I'm here to help! Ask me anything.\")\n",
        "        elif re.search(r\"\\bjoke\\b\", user_input):\n",
        "            print(\"Chatbot: Why don't scientists trust atoms? Because they make up everything!\")\n",
        "        elif \"bye\" in user_input or \"goodbye\" in user_input:\n",
        "            print(\"Chatbot: Goodbye! Have a great day!\")\n",
        "            break\n",
        "        else:\n",
        "            print(\"Chatbot: I'm sorry, I don't understand that. Can you please rephrase?\")\n",
        "\n",
        "# Run the chatbot\n",
        "chatbot()\n"
      ]
    },
    {
      "cell_type": "code",
      "source": [],
      "metadata": {
        "id": "rD8zOMmw4uCt"
      },
      "execution_count": null,
      "outputs": []
    }
  ]
}